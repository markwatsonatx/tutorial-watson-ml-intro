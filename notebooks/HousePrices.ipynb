{
 "cells": [
  {
   "cell_type": "code",
   "execution_count": 3,
   "metadata": {
    "collapsed": true
   },
   "outputs": [],
   "source": [
    "from pyspark.sql import SparkSession\n",
    "from pyspark.sql.functions import col\n",
    "from pyspark.sql.types import IntegerType\n",
    "\n",
    "spark = SparkSession.builder.getOrCreate()"
   ]
  },
  {
   "cell_type": "code",
   "execution_count": 4,
   "metadata": {
    "collapsed": true
   },
   "outputs": [],
   "source": [
    "df = spark.read.format('org.apache.spark.sql.execution.datasources.csv.CSVFileFormat').option('header', 'true').load('/usr/data/house-prices.csv')"
   ]
  },
  {
   "cell_type": "code",
   "execution_count": 5,
   "metadata": {
    "collapsed": true
   },
   "outputs": [],
   "source": [
    "df = df.withColumn('SquareFeet', df['SquareFeet'].cast(IntegerType()))\n",
    "df = df.withColumn('Bedrooms', df['Bedrooms'].cast(IntegerType()))\n",
    "df = df.withColumn('Price', df['Price'].cast(IntegerType()))"
   ]
  },
  {
   "cell_type": "code",
   "execution_count": 6,
   "metadata": {
    "pixiedust": {
     "displayParams": {
      "handlerId": "dataframe"
     }
    }
   },
   "outputs": [
    {
     "name": "stdout",
     "output_type": "stream",
     "text": [
      "+----------+--------+-----+------+\n",
      "|SquareFeet|Bedrooms|Color| Price|\n",
      "+----------+--------+-----+------+\n",
      "|      2100|       3|White|100000|\n",
      "|      2300|       4|White|125000|\n",
      "|      2500|       4|Brown|150000|\n",
      "+----------+--------+-----+------+\n",
      "\n"
     ]
    }
   ],
   "source": [
    "df.show()"
   ]
  },
  {
   "cell_type": "code",
   "execution_count": 7,
   "metadata": {
    "collapsed": true
   },
   "outputs": [],
   "source": [
    "from pyspark.ml import Pipeline\n",
    "from pyspark.ml.regression import LinearRegression\n",
    "from pyspark.ml.feature import VectorAssembler"
   ]
  },
  {
   "cell_type": "code",
   "execution_count": 8,
   "metadata": {
    "collapsed": true
   },
   "outputs": [],
   "source": [
    "assembler = VectorAssembler(inputCols=['SquareFeet','Bedrooms'],outputCol=\"features\")\n",
    "lr = LinearRegression(maxIter=10, regParam=0.3, elasticNetParam=0.8, labelCol='Price', featuresCol='features')\n",
    "pipeline = Pipeline(stages=[assembler, lr])\n",
    "model = pipeline.fit(df)"
   ]
  },
  {
   "cell_type": "code",
   "execution_count": 9,
   "metadata": {
    "collapsed": true
   },
   "outputs": [],
   "source": [
    "def get_prediction(square_feet, num_bedrooms):\n",
    "    df_req = spark.createDataFrame([(square_feet, num_bedrooms)],\n",
    "                                   ['SquareFeet','Bedrooms'])\n",
    "    df_res = model.transform(df_req)\n",
    "    return df_res"
   ]
  },
  {
   "cell_type": "code",
   "execution_count": 10,
   "metadata": {},
   "outputs": [
    {
     "name": "stdout",
     "output_type": "stream",
     "text": [
      "+----------+--------+------------+------------------+\n",
      "|SquareFeet|Bedrooms|    features|        prediction|\n",
      "+----------+--------+------------+------------------+\n",
      "|      2400|       4|[2400.0,4.0]|137499.84066275216|\n",
      "+----------+--------+------------+------------------+\n",
      "\n"
     ]
    }
   ],
   "source": [
    "res = get_prediction(2400, 4)\n",
    "res.show()"
   ]
  },
  {
   "cell_type": "markdown",
   "metadata": {},
   "source": [
    "# Deploy to Watson ML"
   ]
  },
  {
   "cell_type": "code",
   "execution_count": 11,
   "metadata": {
    "collapsed": true
   },
   "outputs": [],
   "source": [
    "from watson_machine_learning_client import WatsonMachineLearningAPIClient"
   ]
  },
  {
   "cell_type": "code",
   "execution_count": 12,
   "metadata": {
    "collapsed": true
   },
   "outputs": [],
   "source": [
    "import os\n",
    "\n",
    "model_name = 'House Prices Model 2'\n",
    "deployment_name = 'House Prices Deployment 2'\n",
    "wml_credentials={\n",
    "  'url': os.environ['WML_SERVICE_PATH'],\n",
    "  'username': os.environ['WML_USERNAME'],\n",
    "  'password': os.environ['WML_PASSWORD'],\n",
    "  'instance_id': os.environ['WML_INSTANCE_ID']\n",
    "}"
   ]
  },
  {
   "cell_type": "code",
   "execution_count": 13,
   "metadata": {
    "collapsed": true
   },
   "outputs": [],
   "source": [
    "client = WatsonMachineLearningAPIClient(wml_credentials)"
   ]
  },
  {
   "cell_type": "code",
   "execution_count": 14,
   "metadata": {
    "collapsed": true
   },
   "outputs": [],
   "source": [
    "#client.repository.delete('94597a4d-03cf-4fdb-b71a-94dd86bca2c1')"
   ]
  },
  {
   "cell_type": "code",
   "execution_count": 15,
   "metadata": {},
   "outputs": [
    {
     "name": "stdout",
     "output_type": "stream",
     "text": [
      "------------------------------------  ------------------  ------------------------  ---------  -----\n",
      "GUID                                  NAME                CREATED                   FRAMEWORK  TYPE\n",
      "1d2faf4e-d042-4d8d-b2dd-ec00896577a2  House Prices Model  2018-02-13T22:43:11.048Z  mllib-2.1  model\n",
      "6bcbc9e7-789e-446f-b61f-66f1e3ef06c5  Shopping History    2018-02-15T21:45:56.492Z  mllib-2.1  model\n",
      "------------------------------------  ------------------  ------------------------  ---------  -----\n"
     ]
    }
   ],
   "source": [
    "client.repository.list_models()"
   ]
  },
  {
   "cell_type": "code",
   "execution_count": 16,
   "metadata": {
    "collapsed": true
   },
   "outputs": [],
   "source": [
    "model_props = {\n",
    "    client.repository.ModelMetaNames.AUTHOR_NAME: 'Mark Watson', \n",
    "    client.repository.ModelMetaNames.AUTHOR_EMAIL: 'markwats@us.ibm.com',\n",
    "    client.repository.ModelMetaNames.NAME: model_name\n",
    "}"
   ]
  },
  {
   "cell_type": "code",
   "execution_count": 15,
   "metadata": {},
   "outputs": [
    {
     "data": {
      "text/plain": [
       "{'entity': {'author': {'email': 'markwats@us.ibm.com', 'name': 'Mark Watson'},\n",
       "  'deployments': {'count': 0,\n",
       "   'url': 'https://ibm-watson-ml.mybluemix.net/v3/wml_instances/840321b3-7fb0-4d84-bc6b-33a371b9ecb6/published_models/f514e05d-bc3e-4b4a-bfd2-bc417826a1ab/deployments'},\n",
       "  'evaluation_metrics_url': 'https://ibm-watson-ml.mybluemix.net/v3/wml_instances/840321b3-7fb0-4d84-bc6b-33a371b9ecb6/published_models/f514e05d-bc3e-4b4a-bfd2-bc417826a1ab/evaluation_metrics',\n",
       "  'feedback_url': 'https://ibm-watson-ml.mybluemix.net/v3/wml_instances/840321b3-7fb0-4d84-bc6b-33a371b9ecb6/published_models/f514e05d-bc3e-4b4a-bfd2-bc417826a1ab/feedback',\n",
       "  'input_data_schema': {'fields': [{'metadata': {},\n",
       "     'name': 'SquareFeet',\n",
       "     'nullable': True,\n",
       "     'type': 'integer'},\n",
       "    {'metadata': {}, 'name': 'Bedrooms', 'nullable': True, 'type': 'integer'},\n",
       "    {'metadata': {}, 'name': 'Color', 'nullable': True, 'type': 'string'}],\n",
       "   'type': 'struct'},\n",
       "  'label_col': 'Price',\n",
       "  'latest_version': {'created_at': '2018-02-20T04:53:45.972Z',\n",
       "   'guid': 'd97e8668-377c-4361-87c0-64f98a8b2b9e',\n",
       "   'url': 'https://ibm-watson-ml.mybluemix.net/v3/ml_assets/models/f514e05d-bc3e-4b4a-bfd2-bc417826a1ab/versions/d97e8668-377c-4361-87c0-64f98a8b2b9e'},\n",
       "  'learning_configuration_url': 'https://ibm-watson-ml.mybluemix.net/v3/wml_instances/840321b3-7fb0-4d84-bc6b-33a371b9ecb6/published_models/f514e05d-bc3e-4b4a-bfd2-bc417826a1ab/learning_configuration',\n",
       "  'learning_iterations_url': 'https://ibm-watson-ml.mybluemix.net/v3/wml_instances/840321b3-7fb0-4d84-bc6b-33a371b9ecb6/published_models/f514e05d-bc3e-4b4a-bfd2-bc417826a1ab/learning_iterations',\n",
       "  'model_type': 'mllib-2.1',\n",
       "  'name': 'House Prices Model 2',\n",
       "  'runtime_environment': 'spark-2.1',\n",
       "  'training_data_schema': {'fields': [{'metadata': {},\n",
       "     'name': 'SquareFeet',\n",
       "     'nullable': True,\n",
       "     'type': 'integer'},\n",
       "    {'metadata': {}, 'name': 'Bedrooms', 'nullable': True, 'type': 'integer'},\n",
       "    {'metadata': {}, 'name': 'Color', 'nullable': True, 'type': 'string'},\n",
       "    {'metadata': {}, 'name': 'Price', 'nullable': True, 'type': 'integer'}],\n",
       "   'type': 'struct'}},\n",
       " 'metadata': {'created_at': '2018-02-20T04:53:45.892Z',\n",
       "  'guid': 'f514e05d-bc3e-4b4a-bfd2-bc417826a1ab',\n",
       "  'modified_at': '2018-02-20T04:53:45.972Z',\n",
       "  'url': 'https://ibm-watson-ml.mybluemix.net/v3/wml_instances/840321b3-7fb0-4d84-bc6b-33a371b9ecb6/published_models/f514e05d-bc3e-4b4a-bfd2-bc417826a1ab'}}"
      ]
     },
     "execution_count": 15,
     "metadata": {},
     "output_type": "execute_result"
    }
   ],
   "source": [
    "saved_model = client.repository.store_model(model=model, pipeline=pipeline, meta_props=model_props, training_data=df)\n",
    "saved_model"
   ]
  },
  {
   "cell_type": "code",
   "execution_count": 24,
   "metadata": {
    "collapsed": true
   },
   "outputs": [],
   "source": [
    "model_id = client.repository.get_model_uid(saved_model)"
   ]
  },
  {
   "cell_type": "code",
   "execution_count": 25,
   "metadata": {
    "collapsed": true
   },
   "outputs": [],
   "source": [
    "deployment = client.deployments.create(model_id, deployment_name)"
   ]
  },
  {
   "cell_type": "code",
   "execution_count": 27,
   "metadata": {},
   "outputs": [
    {
     "name": "stdout",
     "output_type": "stream",
     "text": [
      "https://ibm-watson-ml.mybluemix.net/v3/wml_instances/840321b3-7fb0-4d84-bc6b-33a371b9ecb6/published_models/f514e05d-bc3e-4b4a-bfd2-bc417826a1ab/deployments/587a3f56-b5d7-407f-aa57-8976a8944e4a/online\n"
     ]
    }
   ],
   "source": [
    "scoring_url = client.deployments.get_scoring_url(deployment)\n",
    "\n",
    "print(scoring_url)"
   ]
  },
  {
   "cell_type": "code",
   "execution_count": 33,
   "metadata": {
    "collapsed": true
   },
   "outputs": [],
   "source": [
    "def get_prediction_from_watson_ml(square_feet, num_bedrooms):\n",
    "    scoring_payload = {'fields': ['SquareFeet','Bedrooms'], 'values': [[square_feet, num_bedrooms]]}\n",
    "    print(scoring_payload)\n",
    "    predictions = client.deployments.score(scoring_url, scoring_payload)\n",
    "    return predictions"
   ]
  },
  {
   "cell_type": "code",
   "execution_count": 34,
   "metadata": {},
   "outputs": [
    {
     "name": "stdout",
     "output_type": "stream",
     "text": [
      "{'fields': ['SquareFeet', 'Bedrooms'], 'values': [[2400, 4]]}\n"
     ]
    }
   ],
   "source": [
    "response = get_prediction_from_watson_ml(2400, 4)"
   ]
  },
  {
   "cell_type": "code",
   "execution_count": 36,
   "metadata": {},
   "outputs": [
    {
     "name": "stdout",
     "output_type": "stream",
     "text": [
      "{'fields': ['SquareFeet', 'Bedrooms', 'features', 'prediction'], 'values': [[2400, 4, [2400.0, 4.0], 137499.84066275216]]}\n"
     ]
    }
   ],
   "source": [
    "print(response)"
   ]
  }
 ],
 "metadata": {
  "kernelspec": {
   "display_name": "Python 3 (Spark 2.1.1)",
   "language": "python",
   "name": "pyspark"
  },
  "language_info": {
   "codemirror_mode": {
    "name": "ipython",
    "version": 3
   },
   "file_extension": ".py",
   "mimetype": "text/x-python",
   "name": "python",
   "nbconvert_exporter": "python",
   "pygments_lexer": "ipython3",
   "version": "3.6.1"
  }
 },
 "nbformat": 4,
 "nbformat_minor": 1
}
